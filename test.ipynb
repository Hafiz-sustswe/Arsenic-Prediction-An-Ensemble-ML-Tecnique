{
 "cells": [
  {
   "cell_type": "code",
   "execution_count": 8,
   "metadata": {},
   "outputs": [
    {
     "name": "stdout",
     "output_type": "stream",
     "text": [
      "Num GPUs Available:  1\n"
     ]
    }
   ],
   "source": [
    "import tensorflow as tf\n",
    "print(\"Num GPUs Available: \", len(tf.config.list_physical_devices('GPU')))\n"
   ]
  },
  {
   "cell_type": "markdown",
   "metadata": {},
   "source": [
    "# with cpu"
   ]
  },
  {
   "cell_type": "code",
   "execution_count": 1,
   "metadata": {},
   "outputs": [
    {
     "name": "stdout",
     "output_type": "stream",
     "text": [
      "Matrix multiplication on CPU took: 10.17 seconds\n"
     ]
    }
   ],
   "source": [
    "import tensorflow as tf\n",
    "import time\n",
    "\n",
    "# Force TensorFlow to use the CPU\n",
    "tf.config.set_visible_devices([], 'GPU')\n",
    "\n",
    "# Create large random matrices\n",
    "matrix_size = 10000\n",
    "A = tf.random.normal((matrix_size, matrix_size))\n",
    "B = tf.random.normal((matrix_size, matrix_size))\n",
    "\n",
    "# Measure time for matrix multiplication on CPU\n",
    "start_time = time.time()\n",
    "C = tf.matmul(A, B)\n",
    "end_time = time.time()\n",
    "\n",
    "print(\"Matrix multiplication on CPU took: {:.2f} seconds\".format(end_time - start_time))\n"
   ]
  },
  {
   "cell_type": "markdown",
   "metadata": {},
   "source": [
    "# with GPU"
   ]
  },
  {
   "cell_type": "code",
   "execution_count": 4,
   "metadata": {},
   "outputs": [
    {
     "ename": "RuntimeError",
     "evalue": "Visible devices cannot be modified after being initialized",
     "output_type": "error",
     "traceback": [
      "\u001b[1;31m---------------------------------------------------------------------------\u001b[0m",
      "\u001b[1;31mRuntimeError\u001b[0m                              Traceback (most recent call last)",
      "Cell \u001b[1;32mIn[4], line 5\u001b[0m\n\u001b[0;32m      2\u001b[0m \u001b[38;5;28;01mimport\u001b[39;00m \u001b[38;5;21;01mtime\u001b[39;00m\n\u001b[0;32m      4\u001b[0m \u001b[38;5;66;03m# Force TensorFlow to use the GPU (default behavior if GPU is available)\u001b[39;00m\n\u001b[1;32m----> 5\u001b[0m \u001b[43mtf\u001b[49m\u001b[38;5;241;43m.\u001b[39;49m\u001b[43mconfig\u001b[49m\u001b[38;5;241;43m.\u001b[39;49m\u001b[43mset_visible_devices\u001b[49m\u001b[43m(\u001b[49m\u001b[43mtf\u001b[49m\u001b[38;5;241;43m.\u001b[39;49m\u001b[43mconfig\u001b[49m\u001b[38;5;241;43m.\u001b[39;49m\u001b[43mlist_physical_devices\u001b[49m\u001b[43m(\u001b[49m\u001b[38;5;124;43m'\u001b[39;49m\u001b[38;5;124;43mGPU\u001b[39;49m\u001b[38;5;124;43m'\u001b[39;49m\u001b[43m)\u001b[49m\u001b[43m,\u001b[49m\u001b[43m \u001b[49m\u001b[38;5;124;43m'\u001b[39;49m\u001b[38;5;124;43mGPU\u001b[39;49m\u001b[38;5;124;43m'\u001b[39;49m\u001b[43m)\u001b[49m\n\u001b[0;32m      7\u001b[0m \u001b[38;5;66;03m# Create large random matrices\u001b[39;00m\n\u001b[0;32m      8\u001b[0m matrix_size \u001b[38;5;241m=\u001b[39m \u001b[38;5;241m100000\u001b[39m\n",
      "File \u001b[1;32mc:\\Users\\Nitro Gaming\\miniconda3\\envs\\tf\\lib\\site-packages\\tensorflow\\python\\framework\\config.py:528\u001b[0m, in \u001b[0;36mset_visible_devices\u001b[1;34m(devices, device_type)\u001b[0m\n\u001b[0;32m    495\u001b[0m \u001b[38;5;129m@tf_export\u001b[39m(\u001b[38;5;124m'\u001b[39m\u001b[38;5;124mconfig.set_visible_devices\u001b[39m\u001b[38;5;124m'\u001b[39m,\n\u001b[0;32m    496\u001b[0m            \u001b[38;5;124m'\u001b[39m\u001b[38;5;124mconfig.experimental.set_visible_devices\u001b[39m\u001b[38;5;124m'\u001b[39m)\n\u001b[0;32m    497\u001b[0m \u001b[38;5;129m@deprecation\u001b[39m\u001b[38;5;241m.\u001b[39mdeprecated_endpoints(\u001b[38;5;124m'\u001b[39m\u001b[38;5;124mconfig.experimental.set_visible_devices\u001b[39m\u001b[38;5;124m'\u001b[39m)\n\u001b[0;32m    498\u001b[0m \u001b[38;5;28;01mdef\u001b[39;00m \u001b[38;5;21mset_visible_devices\u001b[39m(devices, device_type\u001b[38;5;241m=\u001b[39m\u001b[38;5;28;01mNone\u001b[39;00m):\n\u001b[0;32m    499\u001b[0m \u001b[38;5;250m  \u001b[39m\u001b[38;5;124;03m\"\"\"Set the list of visible devices.\u001b[39;00m\n\u001b[0;32m    500\u001b[0m \n\u001b[0;32m    501\u001b[0m \u001b[38;5;124;03m  Specifies which `PhysicalDevice` objects are visible to the runtime.\u001b[39;00m\n\u001b[1;32m   (...)\u001b[0m\n\u001b[0;32m    526\u001b[0m \u001b[38;5;124;03m    RuntimeError: Runtime is already initialized.\u001b[39;00m\n\u001b[0;32m    527\u001b[0m \u001b[38;5;124;03m  \"\"\"\u001b[39;00m\n\u001b[1;32m--> 528\u001b[0m   \u001b[43mcontext\u001b[49m\u001b[38;5;241;43m.\u001b[39;49m\u001b[43mcontext\u001b[49m\u001b[43m(\u001b[49m\u001b[43m)\u001b[49m\u001b[38;5;241;43m.\u001b[39;49m\u001b[43mset_visible_devices\u001b[49m\u001b[43m(\u001b[49m\u001b[43mdevices\u001b[49m\u001b[43m,\u001b[49m\u001b[43m \u001b[49m\u001b[43mdevice_type\u001b[49m\u001b[43m)\u001b[49m\n",
      "File \u001b[1;32mc:\\Users\\Nitro Gaming\\miniconda3\\envs\\tf\\lib\\site-packages\\tensorflow\\python\\eager\\context.py:1621\u001b[0m, in \u001b[0;36mContext.set_visible_devices\u001b[1;34m(self, devices, device_type)\u001b[0m\n\u001b[0;32m   1618\u001b[0m   \u001b[38;5;28;01mreturn\u001b[39;00m\n\u001b[0;32m   1620\u001b[0m \u001b[38;5;28;01mif\u001b[39;00m \u001b[38;5;28mself\u001b[39m\u001b[38;5;241m.\u001b[39m_context_handle \u001b[38;5;129;01mis\u001b[39;00m \u001b[38;5;129;01mnot\u001b[39;00m \u001b[38;5;28;01mNone\u001b[39;00m:\n\u001b[1;32m-> 1621\u001b[0m   \u001b[38;5;28;01mraise\u001b[39;00m \u001b[38;5;167;01mRuntimeError\u001b[39;00m(\n\u001b[0;32m   1622\u001b[0m       \u001b[38;5;124m\"\u001b[39m\u001b[38;5;124mVisible devices cannot be modified after being initialized\u001b[39m\u001b[38;5;124m\"\u001b[39m)\n\u001b[0;32m   1624\u001b[0m \u001b[38;5;28mself\u001b[39m\u001b[38;5;241m.\u001b[39m_visible_device_list \u001b[38;5;241m=\u001b[39m visible_device_list\n",
      "\u001b[1;31mRuntimeError\u001b[0m: Visible devices cannot be modified after being initialized"
     ]
    }
   ],
   "source": [
    "import tensorflow as tf\n",
    "import time\n",
    "\n",
    "# Force TensorFlow to use the GPU (default behavior if GPU is available)\n",
    "tf.config.set_visible_devices(tf.config.list_physical_devices('GPU'), 'GPU')\n",
    "\n",
    "# Create large random matrices\n",
    "matrix_size = 100000\n",
    "A = tf.random.normal((matrix_size, matrix_size))\n",
    "B = tf.random.normal((matrix_size, matrix_size))\n",
    "\n",
    "# Measure time for matrix multiplication on GPU\n",
    "start_time = time.time()\n",
    "C = tf.matmul(A, B)\n",
    "end_time = time.time()\n",
    "\n",
    "print(\"Matrix multiplication on GPU took: {:.2f} seconds\".format(end_time - start_time))\n"
   ]
  },
  {
   "cell_type": "code",
   "execution_count": 3,
   "metadata": {},
   "outputs": [
    {
     "name": "stdout",
     "output_type": "stream",
     "text": [
      "Matrix multiplication on GPU took: 10.22 seconds\n"
     ]
    }
   ],
   "source": [
    "\n",
    "import tensorflow as tf\n",
    "import time\n",
    "\n",
    "# No need to set devices explicitly, TensorFlow will automatically use the GPU if available\n",
    "\n",
    "# Create large random matrices\n",
    "matrix_size = 10000\n",
    "A = tf.random.normal((matrix_size, matrix_size))\n",
    "B = tf.random.normal((matrix_size, matrix_size))\n",
    "\n",
    "# Measure time for matrix multiplication on GPU\n",
    "start_time = time.time()\n",
    "C = tf.matmul(A, B)\n",
    "end_time = time.time()\n",
    "\n",
    "print(\"Matrix multiplication on GPU took: {:.2f} seconds\".format(end_time - start_time))\n"
   ]
  },
  {
   "cell_type": "code",
   "execution_count": null,
   "metadata": {},
   "outputs": [],
   "source": []
  }
 ],
 "metadata": {
  "kernelspec": {
   "display_name": "tf",
   "language": "python",
   "name": "python3"
  },
  "language_info": {
   "codemirror_mode": {
    "name": "ipython",
    "version": 3
   },
   "file_extension": ".py",
   "mimetype": "text/x-python",
   "name": "python",
   "nbconvert_exporter": "python",
   "pygments_lexer": "ipython3",
   "version": "3.9.19"
  }
 },
 "nbformat": 4,
 "nbformat_minor": 2
}
